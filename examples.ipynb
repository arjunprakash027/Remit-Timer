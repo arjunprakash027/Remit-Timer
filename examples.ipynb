{
 "cells": [
  {
   "cell_type": "code",
   "execution_count": 1,
   "id": "0abf2afa",
   "metadata": {},
   "outputs": [],
   "source": [
    "import matplotlib.pyplot as plt\n",
    "import numpy as np\n",
    "import pandas as pd\n",
    "\n",
    "from utils.data_extractor import download_single_ticker_forex_data"
   ]
  },
  {
   "cell_type": "code",
   "execution_count": 2,
   "id": "d198bdeb",
   "metadata": {},
   "outputs": [
    {
     "name": "stderr",
     "output_type": "stream",
     "text": [
      "/Users/arjunprakashrao/Drive/projects/forex-agent/utils/data_extractor.py:13: FutureWarning: YF.download() has changed argument auto_adjust default to True\n",
      "  forex_data = yf.download(ticker_full, start='2000-01-02', end='2025-10-01')\n",
      "[*********************100%***********************]  1 of 1 completed\n"
     ]
    }
   ],
   "source": [
    "eur_to_inr = download_single_ticker_forex_data(\"EUR\", \"INR\")"
   ]
  },
  {
   "cell_type": "code",
   "execution_count": 3,
   "id": "8ab03c8e",
   "metadata": {},
   "outputs": [
    {
     "data": {
      "text/html": [
       "<div>\n",
       "<style scoped>\n",
       "    .dataframe tbody tr th:only-of-type {\n",
       "        vertical-align: middle;\n",
       "    }\n",
       "\n",
       "    .dataframe tbody tr th {\n",
       "        vertical-align: top;\n",
       "    }\n",
       "\n",
       "    .dataframe thead th {\n",
       "        text-align: right;\n",
       "    }\n",
       "</style>\n",
       "<table border=\"1\" class=\"dataframe\">\n",
       "  <thead>\n",
       "    <tr style=\"text-align: right;\">\n",
       "      <th></th>\n",
       "      <th>Close_EURINR=X</th>\n",
       "    </tr>\n",
       "    <tr>\n",
       "      <th>Date</th>\n",
       "      <th></th>\n",
       "    </tr>\n",
       "  </thead>\n",
       "  <tbody>\n",
       "    <tr>\n",
       "      <th>2003-12-01</th>\n",
       "      <td>54.700001</td>\n",
       "    </tr>\n",
       "    <tr>\n",
       "      <th>2003-12-02</th>\n",
       "      <td>55.139000</td>\n",
       "    </tr>\n",
       "    <tr>\n",
       "      <th>2003-12-03</th>\n",
       "      <td>55.181000</td>\n",
       "    </tr>\n",
       "    <tr>\n",
       "      <th>2003-12-04</th>\n",
       "      <td>55.000999</td>\n",
       "    </tr>\n",
       "    <tr>\n",
       "      <th>2003-12-05</th>\n",
       "      <td>55.370998</td>\n",
       "    </tr>\n",
       "    <tr>\n",
       "      <th>...</th>\n",
       "      <td>...</td>\n",
       "    </tr>\n",
       "    <tr>\n",
       "      <th>2025-08-25</th>\n",
       "      <td>100.411003</td>\n",
       "    </tr>\n",
       "    <tr>\n",
       "      <th>2025-08-26</th>\n",
       "      <td>101.669998</td>\n",
       "    </tr>\n",
       "    <tr>\n",
       "      <th>2025-08-27</th>\n",
       "      <td>101.920998</td>\n",
       "    </tr>\n",
       "    <tr>\n",
       "      <th>2025-08-28</th>\n",
       "      <td>102.009003</td>\n",
       "    </tr>\n",
       "    <tr>\n",
       "      <th>2025-08-29</th>\n",
       "      <td>103.008499</td>\n",
       "    </tr>\n",
       "  </tbody>\n",
       "</table>\n",
       "<p>5642 rows × 1 columns</p>\n",
       "</div>"
      ],
      "text/plain": [
       "            Close_EURINR=X\n",
       "Date                      \n",
       "2003-12-01       54.700001\n",
       "2003-12-02       55.139000\n",
       "2003-12-03       55.181000\n",
       "2003-12-04       55.000999\n",
       "2003-12-05       55.370998\n",
       "...                    ...\n",
       "2025-08-25      100.411003\n",
       "2025-08-26      101.669998\n",
       "2025-08-27      101.920998\n",
       "2025-08-28      102.009003\n",
       "2025-08-29      103.008499\n",
       "\n",
       "[5642 rows x 1 columns]"
      ]
     },
     "execution_count": 3,
     "metadata": {},
     "output_type": "execute_result"
    }
   ],
   "source": [
    "eur_to_inr"
   ]
  },
  {
   "cell_type": "code",
   "execution_count": 4,
   "id": "a77f9a40",
   "metadata": {},
   "outputs": [
    {
     "data": {
      "text/html": [
       "<div>\n",
       "<style scoped>\n",
       "    .dataframe tbody tr th:only-of-type {\n",
       "        vertical-align: middle;\n",
       "    }\n",
       "\n",
       "    .dataframe tbody tr th {\n",
       "        vertical-align: top;\n",
       "    }\n",
       "\n",
       "    .dataframe thead th {\n",
       "        text-align: right;\n",
       "    }\n",
       "</style>\n",
       "<table border=\"1\" class=\"dataframe\">\n",
       "  <thead>\n",
       "    <tr style=\"text-align: right;\">\n",
       "      <th></th>\n",
       "      <th>Close_EURINR=X</th>\n",
       "      <th>log_returns</th>\n",
       "    </tr>\n",
       "    <tr>\n",
       "      <th>Date</th>\n",
       "      <th></th>\n",
       "      <th></th>\n",
       "    </tr>\n",
       "  </thead>\n",
       "  <tbody>\n",
       "    <tr>\n",
       "      <th>2003-12-02</th>\n",
       "      <td>55.139000</td>\n",
       "      <td>0.007994</td>\n",
       "    </tr>\n",
       "    <tr>\n",
       "      <th>2003-12-03</th>\n",
       "      <td>55.181000</td>\n",
       "      <td>0.000761</td>\n",
       "    </tr>\n",
       "    <tr>\n",
       "      <th>2003-12-04</th>\n",
       "      <td>55.000999</td>\n",
       "      <td>-0.003267</td>\n",
       "    </tr>\n",
       "    <tr>\n",
       "      <th>2003-12-05</th>\n",
       "      <td>55.370998</td>\n",
       "      <td>0.006705</td>\n",
       "    </tr>\n",
       "    <tr>\n",
       "      <th>2003-12-08</th>\n",
       "      <td>55.563999</td>\n",
       "      <td>0.003480</td>\n",
       "    </tr>\n",
       "    <tr>\n",
       "      <th>...</th>\n",
       "      <td>...</td>\n",
       "      <td>...</td>\n",
       "    </tr>\n",
       "    <tr>\n",
       "      <th>2025-08-25</th>\n",
       "      <td>100.411003</td>\n",
       "      <td>-0.008815</td>\n",
       "    </tr>\n",
       "    <tr>\n",
       "      <th>2025-08-26</th>\n",
       "      <td>101.669998</td>\n",
       "      <td>0.012460</td>\n",
       "    </tr>\n",
       "    <tr>\n",
       "      <th>2025-08-27</th>\n",
       "      <td>101.920998</td>\n",
       "      <td>0.002466</td>\n",
       "    </tr>\n",
       "    <tr>\n",
       "      <th>2025-08-28</th>\n",
       "      <td>102.009003</td>\n",
       "      <td>0.000863</td>\n",
       "    </tr>\n",
       "    <tr>\n",
       "      <th>2025-08-29</th>\n",
       "      <td>103.008499</td>\n",
       "      <td>0.009750</td>\n",
       "    </tr>\n",
       "  </tbody>\n",
       "</table>\n",
       "<p>5641 rows × 2 columns</p>\n",
       "</div>"
      ],
      "text/plain": [
       "            Close_EURINR=X  log_returns\n",
       "Date                                   \n",
       "2003-12-02       55.139000     0.007994\n",
       "2003-12-03       55.181000     0.000761\n",
       "2003-12-04       55.000999    -0.003267\n",
       "2003-12-05       55.370998     0.006705\n",
       "2003-12-08       55.563999     0.003480\n",
       "...                    ...          ...\n",
       "2025-08-25      100.411003    -0.008815\n",
       "2025-08-26      101.669998     0.012460\n",
       "2025-08-27      101.920998     0.002466\n",
       "2025-08-28      102.009003     0.000863\n",
       "2025-08-29      103.008499     0.009750\n",
       "\n",
       "[5641 rows x 2 columns]"
      ]
     },
     "execution_count": 4,
     "metadata": {},
     "output_type": "execute_result"
    }
   ],
   "source": [
    "eur_to_inr['log_returns'] = np.log(eur_to_inr['Close_EURINR=X']/eur_to_inr['Close_EURINR=X'].shift(1))\n",
    "eur_to_inr.dropna(inplace=True)\n",
    "eur_to_inr"
   ]
  },
  {
   "cell_type": "markdown",
   "id": "268cd55e",
   "metadata": {},
   "source": [
    "# Graphs"
   ]
  },
  {
   "cell_type": "code",
   "execution_count": 5,
   "id": "34e15a71",
   "metadata": {},
   "outputs": [
    {
     "data": {
      "text/plain": [
       "<Axes: xlabel='Date'>"
      ]
     },
     "execution_count": 5,
     "metadata": {},
     "output_type": "execute_result"
    },
    {
     "data": {
      "image/png": "[encoded data removed]",
      "text/plain": [
       "<Figure size 640x480 with 1 Axes>"
      ]
     },
     "metadata": {},
     "output_type": "display_data"
    }
   ],
   "source": [
    "eur_to_inr['log_returns'].plot()"
   ]
  },
  {
   "cell_type": "code",
   "execution_count": 6,
   "id": "e03c709e",
   "metadata": {},
   "outputs": [
    {
     "data": {
      "text/plain": [
       "(Close_EURINR=X    412000.650467\n",
       " log_returns            0.632948\n",
       " dtype: float64,\n",
       " Close_EURINR=X    73.036811\n",
       " log_returns        0.000112\n",
       " dtype: float64,\n",
       " Close_EURINR=X    12.152075\n",
       " log_returns        0.006861\n",
       " dtype: float64)"
      ]
     },
     "execution_count": 6,
     "metadata": {},
     "output_type": "execute_result"
    }
   ],
   "source": [
    "eur_to_inr.sum(), eur_to_inr.mean(), eur_to_inr.std()"
   ]
  },
  {
   "cell_type": "markdown",
   "id": "b7b22eb4",
   "metadata": {},
   "source": [
    "# Time series analysis"
   ]
  },
  {
   "cell_type": "code",
   "execution_count": 7,
   "id": "c749056e",
   "metadata": {},
   "outputs": [],
   "source": [
    "from statsmodels.tsa.stattools import adfuller\n",
    "from models.time_series import time_series as ts"
   ]
  },
  {
   "cell_type": "code",
   "execution_count": 8,
   "id": "754c6d97",
   "metadata": {},
   "outputs": [
    {
     "data": {
      "text/plain": [
       "(np.float64(-33.333469079013376),\n",
       " 0.0,\n",
       " 4,\n",
       " 5636,\n",
       " {'1%': np.float64(-3.9603771945043054),\n",
       "  '5%': np.float64(-3.411269276915042),\n",
       "  '10%': np.float64(-3.1275088887722604)},\n",
       " np.float64(-40061.873443233635))"
      ]
     },
     "execution_count": 8,
     "metadata": {},
     "output_type": "execute_result"
    }
   ],
   "source": [
    "# Using ADF test to check for stationarity\n",
    "eur_to_inr_list = eur_to_inr['log_returns'].to_list()\n",
    "ad_stats = adfuller(eur_to_inr_list, regression='ct', autolag='BIC')\n",
    "ad_stats"
   ]
  },
  {
   "cell_type": "code",
   "execution_count": 9,
   "id": "73f3cde2",
   "metadata": {},
   "outputs": [
    {
     "data": {
      "text/html": [
       "<div>\n",
       "<style scoped>\n",
       "    .dataframe tbody tr th:only-of-type {\n",
       "        vertical-align: middle;\n",
       "    }\n",
       "\n",
       "    .dataframe tbody tr th {\n",
       "        vertical-align: top;\n",
       "    }\n",
       "\n",
       "    .dataframe thead th {\n",
       "        text-align: right;\n",
       "    }\n",
       "</style>\n",
       "<table border=\"1\" class=\"dataframe\">\n",
       "  <thead>\n",
       "    <tr style=\"text-align: right;\">\n",
       "      <th></th>\n",
       "      <th>Close_EURINR=X</th>\n",
       "      <th>log_returns</th>\n",
       "      <th>SMA_last_720</th>\n",
       "    </tr>\n",
       "    <tr>\n",
       "      <th>Date</th>\n",
       "      <th></th>\n",
       "      <th></th>\n",
       "      <th></th>\n",
       "    </tr>\n",
       "  </thead>\n",
       "  <tbody>\n",
       "    <tr>\n",
       "      <th>2003-12-02</th>\n",
       "      <td>55.139000</td>\n",
       "      <td>0.007994</td>\n",
       "      <td>NaN</td>\n",
       "    </tr>\n",
       "    <tr>\n",
       "      <th>2003-12-03</th>\n",
       "      <td>55.181000</td>\n",
       "      <td>0.000761</td>\n",
       "      <td>NaN</td>\n",
       "    </tr>\n",
       "    <tr>\n",
       "      <th>2003-12-04</th>\n",
       "      <td>55.000999</td>\n",
       "      <td>-0.003267</td>\n",
       "      <td>NaN</td>\n",
       "    </tr>\n",
       "    <tr>\n",
       "      <th>2003-12-05</th>\n",
       "      <td>55.370998</td>\n",
       "      <td>0.006705</td>\n",
       "      <td>NaN</td>\n",
       "    </tr>\n",
       "    <tr>\n",
       "      <th>2003-12-08</th>\n",
       "      <td>55.563999</td>\n",
       "      <td>0.003480</td>\n",
       "      <td>NaN</td>\n",
       "    </tr>\n",
       "    <tr>\n",
       "      <th>...</th>\n",
       "      <td>...</td>\n",
       "      <td>...</td>\n",
       "      <td>...</td>\n",
       "    </tr>\n",
       "    <tr>\n",
       "      <th>2025-08-25</th>\n",
       "      <td>100.411003</td>\n",
       "      <td>-0.008815</td>\n",
       "      <td>90.936539</td>\n",
       "    </tr>\n",
       "    <tr>\n",
       "      <th>2025-08-26</th>\n",
       "      <td>101.669998</td>\n",
       "      <td>0.012460</td>\n",
       "      <td>90.960211</td>\n",
       "    </tr>\n",
       "    <tr>\n",
       "      <th>2025-08-27</th>\n",
       "      <td>101.920998</td>\n",
       "      <td>0.002466</td>\n",
       "      <td>90.984552</td>\n",
       "    </tr>\n",
       "    <tr>\n",
       "      <th>2025-08-28</th>\n",
       "      <td>102.009003</td>\n",
       "      <td>0.000863</td>\n",
       "      <td>91.009265</td>\n",
       "    </tr>\n",
       "    <tr>\n",
       "      <th>2025-08-29</th>\n",
       "      <td>103.008499</td>\n",
       "      <td>0.009750</td>\n",
       "      <td>91.036152</td>\n",
       "    </tr>\n",
       "  </tbody>\n",
       "</table>\n",
       "<p>5641 rows × 3 columns</p>\n",
       "</div>"
      ],
      "text/plain": [
       "            Close_EURINR=X  log_returns  SMA_last_720\n",
       "Date                                                 \n",
       "2003-12-02       55.139000     0.007994           NaN\n",
       "2003-12-03       55.181000     0.000761           NaN\n",
       "2003-12-04       55.000999    -0.003267           NaN\n",
       "2003-12-05       55.370998     0.006705           NaN\n",
       "2003-12-08       55.563999     0.003480           NaN\n",
       "...                    ...          ...           ...\n",
       "2025-08-25      100.411003    -0.008815     90.936539\n",
       "2025-08-26      101.669998     0.012460     90.960211\n",
       "2025-08-27      101.920998     0.002466     90.984552\n",
       "2025-08-28      102.009003     0.000863     91.009265\n",
       "2025-08-29      103.008499     0.009750     91.036152\n",
       "\n",
       "[5641 rows x 3 columns]"
      ]
     },
     "execution_count": 9,
     "metadata": {},
     "output_type": "execute_result"
    }
   ],
   "source": [
    "# Simple moving average\n",
    "\n",
    "eur_to_inr = ts.simple_moving_average(price_movement=eur_to_inr, price_row='Close_EURINR=X', periods=720)\n",
    "eur_to_inr"
   ]
  },
  {
   "cell_type": "code",
   "execution_count": 10,
   "id": "8d26cf91",
   "metadata": {},
   "outputs": [
    {
     "data": {
      "text/plain": [
       "<Axes: xlabel='Date'>"
      ]
     },
     "execution_count": 10,
     "metadata": {},
     "output_type": "execute_result"
    },
    {
     "data": {
      "image/png": "[encoded data removed]",
      "text/plain": [
       "<Figure size 640x480 with 1 Axes>"
      ]
     },
     "metadata": {},
     "output_type": "display_data"
    }
   ],
   "source": [
    "eur_to_inr.plot()"
   ]
  },
  {
   "cell_type": "code",
   "execution_count": 11,
   "id": "5939221f",
   "metadata": {},
   "outputs": [
    {
     "name": "stderr",
     "output_type": "stream",
     "text": [
      "/Users/arjunprakashrao/Drive/projects/forex-agent/.venv/lib/python3.13/site-packages/statsmodels/tsa/base/tsa_model.py:473: ValueWarning: A date index has been provided, but it has no associated frequency information and so will be ignored when e.g. forecasting.\n",
      "  self._init_dates(dates, freq)\n",
      "/Users/arjunprakashrao/Drive/projects/forex-agent/.venv/lib/python3.13/site-packages/statsmodels/tsa/base/tsa_model.py:473: ValueWarning: A date index has been provided, but it has no associated frequency information and so will be ignored when e.g. forecasting.\n",
      "  self._init_dates(dates, freq)\n",
      "/Users/arjunprakashrao/Drive/projects/forex-agent/.venv/lib/python3.13/site-packages/statsmodels/tsa/base/tsa_model.py:473: ValueWarning: A date index has been provided, but it has no associated frequency information and so will be ignored when e.g. forecasting.\n",
      "  self._init_dates(dates, freq)\n"
     ]
    },
    {
     "name": "stdout",
     "output_type": "stream",
     "text": [
      "                               SARIMAX Results                                \n",
      "==============================================================================\n",
      "Dep. Variable:            log_returns   No. Observations:                 5641\n",
      "Model:                 ARIMA(5, 0, 1)   Log Likelihood               20185.067\n",
      "Date:                Sun, 31 Aug 2025   AIC                         -40354.134\n",
      "Time:                        17:18:08   BIC                         -40301.031\n",
      "Sample:                             0   HQIC                        -40335.635\n",
      "                               - 5641                                         \n",
      "Covariance Type:                  opg                                         \n",
      "==============================================================================\n",
      "                 coef    std err          z      P>|z|      [0.025      0.975]\n",
      "------------------------------------------------------------------------------\n",
      "const          0.0001   7.91e-05      1.410      0.159   -4.36e-05       0.000\n",
      "ar.L1         -0.0743      0.164     -0.452      0.651      -0.396       0.248\n",
      "ar.L2         -0.0413      0.027     -1.520      0.128      -0.095       0.012\n",
      "ar.L3          0.0049      0.015      0.336      0.737      -0.024       0.033\n",
      "ar.L4         -0.0124      0.011     -1.093      0.274      -0.035       0.010\n",
      "ar.L5          0.0694      0.012      5.890      0.000       0.046       0.092\n",
      "ma.L1         -0.0805      0.165     -0.489      0.625      -0.403       0.242\n",
      "sigma2      4.566e-05    5.8e-07     78.718      0.000    4.45e-05    4.68e-05\n",
      "===================================================================================\n",
      "Ljung-Box (L1) (Q):                   0.00   Jarque-Bera (JB):              1414.27\n",
      "Prob(Q):                              0.95   Prob(JB):                         0.00\n",
      "Heteroskedasticity (H):               0.62   Skew:                             0.09\n",
      "Prob(H) (two-sided):                  0.00   Kurtosis:                         5.45\n",
      "===================================================================================\n",
      "\n",
      "Warnings:\n",
      "[1] Covariance matrix calculated using the outer product of gradients (complex-step).\n"
     ]
    },
    {
     "name": "stderr",
     "output_type": "stream",
     "text": [
      "/Users/arjunprakashrao/Drive/projects/forex-agent/.venv/lib/python3.13/site-packages/statsmodels/tsa/base/tsa_model.py:837: ValueWarning: No supported index is available. Prediction results will be given with an integer index beginning at `start`.\n",
      "  return get_prediction_index(\n",
      "/Users/arjunprakashrao/Drive/projects/forex-agent/.venv/lib/python3.13/site-packages/statsmodels/tsa/base/tsa_model.py:837: FutureWarning: No supported index is available. In the next version, calling this method in a model without a supported index will result in an exception.\n",
      "  return get_prediction_index(\n"
     ]
    }
   ],
   "source": [
    "forecast = ts.arima_train_and_pred(eur_to_inr['log_returns'])"
   ]
  },
  {
   "cell_type": "code",
   "execution_count": 14,
   "id": "5371d9f2",
   "metadata": {},
   "outputs": [
    {
     "data": {
      "text/plain": [
       "Date\n",
       "2003-12-02    0.007994\n",
       "2003-12-03    0.000761\n",
       "2003-12-04   -0.003267\n",
       "2003-12-05    0.006705\n",
       "2003-12-08    0.003480\n",
       "                ...   \n",
       "2025-08-25   -0.008815\n",
       "2025-08-26    0.012460\n",
       "2025-08-27    0.002466\n",
       "2025-08-28    0.000863\n",
       "2025-08-29    0.009750\n",
       "Name: log_returns, Length: 5641, dtype: float64"
      ]
     },
     "execution_count": 14,
     "metadata": {},
     "output_type": "execute_result"
    }
   ],
   "source": [
    "eur_to_inr['log_returns']"
   ]
  },
  {
   "cell_type": "code",
   "execution_count": 15,
   "id": "9bbef4b0",
   "metadata": {},
   "outputs": [
    {
     "data": {
      "text/plain": [
       "5641   -0.002184\n",
       "5642    0.000715\n",
       "5643    0.000363\n",
       "5644   -0.000010\n",
       "5645    0.000810\n",
       "Name: predicted_mean, dtype: float64"
      ]
     },
     "execution_count": 15,
     "metadata": {},
     "output_type": "execute_result"
    }
   ],
   "source": [
    "forecast"
   ]
  },
  {
   "cell_type": "code",
   "execution_count": null,
   "id": "ea00c5db",
   "metadata": {},
   "outputs": [],
   "source": []
  }
 ],
 "metadata": {
  "kernelspec": {
   "display_name": "forex-agent",
   "language": "python",
   "name": "python3"
  },
  "language_info": {
   "codemirror_mode": {
    "name": "ipython",
    "version": 3
   },
   "file_extension": ".py",
   "mimetype": "text/x-python",
   "name": "python",
   "nbconvert_exporter": "python",
   "pygments_lexer": "ipython3",
   "version": "3.13.7"
  }
 },
 "nbformat": 4,
 "nbformat_minor": 5
}
